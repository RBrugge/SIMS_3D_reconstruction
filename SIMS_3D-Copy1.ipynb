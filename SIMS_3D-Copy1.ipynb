{
 "cells": [
  {
   "cell_type": "code",
   "execution_count": null,
   "metadata": {},
   "outputs": [],
   "source": [
    "#%matplotlib notebook\n",
    "import numpy as np\n",
    "import matplotlib.pyplot as plt\n",
    "import pandas\n",
    "from scipy.interpolate import griddata\n",
    "from scipy import ndimage\n",
    "import matplotlib\n",
    "from mpl_toolkits.mplot3d import Axes3D\n",
    "import ipywidgets as widgets"
   ]
  },
  {
   "cell_type": "code",
   "execution_count": null,
   "metadata": {},
   "outputs": [],
   "source": [
    "def col(data): \n",
    "    x = np.array(data['x'])\n",
    "    y = np.array(data['y'])\n",
    "    z = np.array(data['z'])\n",
    "    i = np.array(data['counts'])\n",
    "    return [x,y,z,i]"
   ]
  },
  {
   "cell_type": "code",
   "execution_count": null,
   "metadata": {},
   "outputs": [],
   "source": [
    "def import_data(fid):\n",
    "    #import\n",
    "    array = pandas.read_csv(fid,sep = ' ',skiprows=10, header = None)\n",
    "    array.columns = ['x','y','z','counts']\n",
    "    #normalise\n",
    "    #array['counts'] = np.array(array['counts'])/(np.array(total['counts']))\n",
    "    #Remove indices with value=0\n",
    "    indexNames = array[ (array['counts'] == 0)].index\n",
    "    array.drop(indexNames , inplace=True)\n",
    "    \n",
    "    return array"
   ]
  },
  {
   "cell_type": "markdown",
   "metadata": {},
   "source": [
    "Find files in the folder"
   ]
  },
  {
   "cell_type": "code",
   "execution_count": null,
   "metadata": {},
   "outputs": [],
   "source": [
    "import glob, os\n",
    "cwd = os.getcwd()\n",
    "files = []\n",
    "for file in os.listdir(cwd):\n",
    "    if file.endswith('.txt'):\n",
    "        files.append(file)"
   ]
  },
  {
   "cell_type": "code",
   "execution_count": null,
   "metadata": {
    "scrolled": false
   },
   "outputs": [],
   "source": [
    "fid = 'a25295_1 (7) - OH-.txt'\n",
    "ion_data = import_data(fid)"
   ]
  },
  {
   "cell_type": "code",
   "execution_count": null,
   "metadata": {},
   "outputs": [],
   "source": [
    "def plot_data(ion_data, name):\n",
    "    fig = plt.figure()\n",
    "    ax = fig.add_subplot(111, projection='3d')\n",
    "    x = np.flip(col(ion_data)[0])\n",
    "    y = np.flip(col(ion_data)[1])\n",
    "    z = -np.flip(col(ion_data)[2])\n",
    "    c = np.flip(col(ion_data)[3])\n",
    "\n",
    "    img = ax.scatter(x, y, z, c=c,s=1, alpha = 0.5, cmap='plasma',vmin=0,vmax=5) \n",
    "    fig.colorbar(img)\n",
    "    ax.zaxis.set_rotate_label(False) \n",
    "    ax.set_title(name)\n",
    "    ax.set_xlabel('x / $/mu$m')   # x-axis label\n",
    "    ax.set_ylabel('y / $/mu$m')   # y-axis label \n",
    "    ax.set_zlabel('Sputter time / s',rotation= 90)   # z-axis label\n",
    "    ax.set_xlim(0,127)\n",
    "    ax.set_ylim(0,127)\n",
    "    ax.set_zlim(-200,0)\n",
    "    ax.view_init(elev=60,azim=40)  # elev for verticle rotation and azim for horizontal rotation \n",
    "    ax.grid(False)  # for gridlines remove 'False'\n",
    "    plt.axis('on')  # to axis lines keep 'on'\n",
    "    plt.show() \n",
    "    fig.savefig(name,transparent=True, dpi=600)\n",
    "    return"
   ]
  },
  {
   "cell_type": "code",
   "execution_count": null,
   "metadata": {
    "scrolled": true
   },
   "outputs": [],
   "source": [
    "for file in files:\n",
    "    data = import_data(file)\n",
    "    plot_data(data,file.split('.')[0])"
   ]
  },
  {
   "cell_type": "code",
   "execution_count": null,
   "metadata": {},
   "outputs": [],
   "source": []
  },
  {
   "cell_type": "code",
   "execution_count": null,
   "metadata": {},
   "outputs": [],
   "source": []
  }
 ],
 "metadata": {
  "kernelspec": {
   "display_name": "Python 3",
   "language": "python",
   "name": "python3"
  },
  "language_info": {
   "codemirror_mode": {
    "name": "ipython",
    "version": 3
   },
   "file_extension": ".py",
   "mimetype": "text/x-python",
   "name": "python",
   "nbconvert_exporter": "python",
   "pygments_lexer": "ipython3",
   "version": "3.7.6"
  }
 },
 "nbformat": 4,
 "nbformat_minor": 4
}
